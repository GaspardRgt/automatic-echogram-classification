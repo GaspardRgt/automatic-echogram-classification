{
 "cells": [
  {
   "cell_type": "code",
   "execution_count": 4,
   "id": "f5d0d186",
   "metadata": {},
   "outputs": [
    {
     "data": {
      "text/plain": [
       "\"C:\\\\Users\\\\Gaspard\\\\Desktop\\\\Etudes\\\\L'X\\\\Stage 3A - MARBEC\\\\Data\\\\ABRACOS1\\\\EI002_High_resolution\""
      ]
     },
     "execution_count": 4,
     "metadata": {},
     "output_type": "execute_result"
    }
   ],
   "source": [
    "# Setting work directory where the data is\n",
    "import os\n",
    "\n",
    "os.chdir(\"C:\\\\Users\\\\Gaspard\\\\Desktop\\\\Etudes\\\\L'X\\\\Stage 3A - MARBEC\\\\Data\\\\ABRACOS1\\\\EI002_High_resolution\")\n",
    "os.getcwd()"
   ]
  },
  {
   "cell_type": "code",
   "execution_count": 6,
   "id": "a3c23ca7",
   "metadata": {},
   "outputs": [
    {
     "name": "stdout",
     "output_type": "stream",
     "text": [
      "scipy.io.loadmat doesn't work on v7.3 files, we have to use h5py\n"
     ]
    }
   ],
   "source": [
    "# First test\n",
    "import scipy.io\n",
    "#mat = scipy.io.loadmat(\"Echointegration\")\n",
    "print(\"scipy.io.loadmat doesn't work on v7.3 files, we have to use h5py\")"
   ]
  },
  {
   "cell_type": "code",
   "execution_count": 11,
   "id": "5c666bc8",
   "metadata": {},
   "outputs": [
    {
     "data": {
      "text/plain": [
       "<HDF5 file \"Echointegration.mat\" (mode r)>"
      ]
     },
     "execution_count": 11,
     "metadata": {},
     "output_type": "execute_result"
    }
   ],
   "source": [
    "# Test with h5py\n",
    "import numpy as np\n",
    "try:\n",
    "    import h5py\n",
    "except:\n",
    "    print(\"Couldn't find h5py extension, installing it.\")\n",
    "    !pip install h5py\n",
    "    import h5py\n",
    "\n",
    "EI = h5py.File('Echointegration.mat','r')\n",
    "EI"
   ]
  },
  {
   "cell_type": "code",
   "execution_count": 14,
   "id": "827fbde3",
   "metadata": {},
   "outputs": [
    {
     "data": {
      "text/plain": [
       "array([[[-150.      , -150.      , -150.      , ...,         nan,\n",
       "                 nan,         nan],\n",
       "        [-150.      , -150.      , -150.      , ..., -150.      ,\n",
       "                 nan,         nan],\n",
       "        [-150.      , -150.      ,  -92.44604 , ...,  -76.95773 ,\n",
       "                 nan,         nan],\n",
       "        ...,\n",
       "        [-150.      , -150.      ,  -48.048996, ...,         nan,\n",
       "                 nan,         nan],\n",
       "        [-150.      , -150.      ,  -71.769554, ...,         nan,\n",
       "                 nan,         nan],\n",
       "        [-150.      , -150.      , -150.      , ...,         nan,\n",
       "                 nan,         nan]],\n",
       "\n",
       "       [[-150.      , -150.      ,  -91.38893 , ...,         nan,\n",
       "                 nan,         nan],\n",
       "        [-150.      , -150.      ,  -99.84165 , ...,         nan,\n",
       "                 nan,         nan],\n",
       "        [-150.      , -150.      ,  -84.05191 , ...,         nan,\n",
       "                 nan,         nan],\n",
       "        ...,\n",
       "        [-150.      , -150.      ,  -47.79713 , ...,         nan,\n",
       "                 nan,         nan],\n",
       "        [-150.      , -150.      ,  -92.67649 , ...,         nan,\n",
       "                 nan,         nan],\n",
       "        [-150.      , -150.      , -150.      , ...,         nan,\n",
       "                 nan,         nan]],\n",
       "\n",
       "       [[-150.      , -150.      ,  -75.20017 , ...,         nan,\n",
       "                 nan,         nan],\n",
       "        [-150.      , -150.      ,  -93.6896  , ...,         nan,\n",
       "                 nan,         nan],\n",
       "        [-150.      , -150.      ,  -76.25266 , ...,         nan,\n",
       "                 nan,         nan],\n",
       "        ...,\n",
       "        [-150.      , -150.      ,  -47.299778, ...,         nan,\n",
       "                 nan,         nan],\n",
       "        [-150.      , -150.      ,  -87.95217 , ...,         nan,\n",
       "                 nan,         nan],\n",
       "        [-150.      , -150.      , -150.      , ...,         nan,\n",
       "                 nan,         nan]],\n",
       "\n",
       "       [[-150.      , -150.      ,  -84.29544 , ...,         nan,\n",
       "                 nan,         nan],\n",
       "        [-150.      , -150.      ,  -97.18686 , ...,         nan,\n",
       "                 nan,         nan],\n",
       "        [-150.      , -150.      ,  -81.71017 , ...,         nan,\n",
       "                 nan,         nan],\n",
       "        ...,\n",
       "        [-150.      , -150.      ,  -52.435345, ...,         nan,\n",
       "                 nan,         nan],\n",
       "        [-150.      , -150.      ,  -87.51036 , ...,         nan,\n",
       "                 nan,         nan],\n",
       "        [-150.      , -150.      , -150.      , ...,         nan,\n",
       "                 nan,         nan]]], dtype=float32)"
      ]
     },
     "execution_count": 14,
     "metadata": {},
     "output_type": "execute_result"
    }
   ],
   "source": [
    "Sv_surface = np.array(EI.get(\"Sv_surface\"))\n",
    "Sv_surface"
   ]
  },
  {
   "cell_type": "code",
   "execution_count": 15,
   "id": "832426ce",
   "metadata": {},
   "outputs": [
    {
     "data": {
      "text/plain": [
       "(4, 415019, 745)"
      ]
     },
     "execution_count": 15,
     "metadata": {},
     "output_type": "execute_result"
    }
   ],
   "source": [
    "Sv_surface.shape"
   ]
  },
  {
   "cell_type": "code",
   "execution_count": null,
   "id": "eea6f512",
   "metadata": {},
   "outputs": [],
   "source": []
  }
 ],
 "metadata": {
  "kernelspec": {
   "display_name": "Python 3 (ipykernel)",
   "language": "python",
   "name": "python3"
  },
  "language_info": {
   "codemirror_mode": {
    "name": "ipython",
    "version": 3
   },
   "file_extension": ".py",
   "mimetype": "text/x-python",
   "name": "python",
   "nbconvert_exporter": "python",
   "pygments_lexer": "ipython3",
   "version": "3.11.2"
  }
 },
 "nbformat": 4,
 "nbformat_minor": 5
}
